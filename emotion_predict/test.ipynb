{
 "cells": [
  {
   "cell_type": "code",
   "execution_count": 25,
   "metadata": {},
   "outputs": [],
   "source": [
    "from transformers import AutoTokenizer, AutoModelForSequenceClassification\n",
    "\n",
    "tokenizer = AutoTokenizer.from_pretrained(\"/home/hutu/PersonaDataset/PD/emotion_predict/distilbert-base-uncased-go-emotions-student\")\n",
    "\n",
    "model = AutoModelForSequenceClassification.from_pretrained(\"/home/hutu/PersonaDataset/PD/emotion_predict/distilbert-base-uncased-go-emotions-student\")"
   ]
  },
  {
   "cell_type": "code",
   "execution_count": 28,
   "metadata": {},
   "outputs": [],
   "source": [
    "input_ids = tokenizer(\"I feel lucky to be here.\", return_tensors=\"pt\").input_ids\n",
    "outputs = model(input_ids).logits"
   ]
  },
  {
   "cell_type": "code",
   "execution_count": null,
   "metadata": {},
   "outputs": [],
   "source": [
    "A: No!! Okay?! Why does everyone keep fixating on that? She didn't know, how should I know?\n",
    "B: Sometimes I wish I was a lesbian... (They all stare at him.) Did I say that out loud?\n",
    "A: I told mom and dad last night, they seemed to take it pretty well.\n",
    "C: Oh really, so that hysterical phone call I got from a woman at sobbing 3:00 A.M., \"\"I'll never have grandchildren, I'll never have grandchildren.\"\" was what? A wrong number?\n",
    "A: Sorry.\n",
    "D: Alright Ross, look. You're feeling a lot of pain right now. You're angry. You're hurting. Can I tell you what the answer is?\n",
    "D: Strip joint! C'mon, you're single! Have some hormones!\n",
    "A: I don't want to be single, okay? I just... I just- I just wanna be married again!\n",
    "\n",
    "\n",
    "Joey Tribbiani,1,1,0,0,1"
   ]
  },
  {
   "cell_type": "code",
   "execution_count": 30,
   "metadata": {},
   "outputs": [
    {
     "data": {
      "text/plain": [
       "tensor(23)"
      ]
     },
     "execution_count": 30,
     "metadata": {},
     "output_type": "execute_result"
    }
   ],
   "source": [
    "outputs.argmax()"
   ]
  }
 ],
 "metadata": {
  "kernelspec": {
   "display_name": "pd",
   "language": "python",
   "name": "python3"
  },
  "language_info": {
   "codemirror_mode": {
    "name": "ipython",
    "version": 3
   },
   "file_extension": ".py",
   "mimetype": "text/x-python",
   "name": "python",
   "nbconvert_exporter": "python",
   "pygments_lexer": "ipython3",
   "version": "3.7.13 (default, Oct 18 2022, 18:57:03) \n[GCC 11.2.0]"
  },
  "orig_nbformat": 4,
  "vscode": {
   "interpreter": {
    "hash": "5eb252cee9819df7bd070b8eef635f8926366d6e14d060e949dee96c325f1a26"
   }
  }
 },
 "nbformat": 4,
 "nbformat_minor": 2
}
